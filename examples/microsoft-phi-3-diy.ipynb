{
 "cells": [
  {
   "cell_type": "code",
   "execution_count": null,
   "metadata": {},
   "outputs": [],
   "source": [
    "from huggingface_hub import HfApi\n",
    "import os\n",
    "import tqdm\n",
    "\n",
    "os.environ[\"HF_ENABLE\"] = \"1\"\n",
    "\n",
    "api = HfApi()\n",
    "repo_id = \"microsoft/Phi-3-mini-4k-instruct\"\n",
    "\n",
    "artifacts_path = api.snapshot_download(\n",
    "    repo_id = repo_id,\n",
    "    revision = \"c1358f8a35e6d2af81890deffbbfa575b978c62f\",\n",
    "    max_workers = 16,\n",
    "    ignore_patterns = [\"*.bin\", \"*.pkl\", \"*.pth\"],\n",
    "    tqdm_class = tqdm.tqdm,\n",
    "    resume_download = True\n",
    ")"
   ]
  },
  {
   "cell_type": "code",
   "execution_count": null,
   "metadata": {},
   "outputs": [],
   "source": [
    "from transformers import AutoModelForCausalLM, AutoTokenizer\n",
    "import torch\n",
    "\n",
    "tokenizer = AutoTokenizer.from_pretrained(artifacts_path)\n",
    "model = AutoModelForCausalLM.from_pretrained(\n",
    "    artifacts_path,\n",
    "    torch_dtype = torch.bfloat16,\n",
    "    attn_implementation = \"flash_attention_2\",\n",
    "    device_map = \"cuda\"\n",
    ")"
   ]
  },
  {
   "cell_type": "code",
   "execution_count": null,
   "metadata": {},
   "outputs": [],
   "source": [
    "import mlflow\n",
    "from transformers import pipeline\n",
    "\n",
    "experiment_name = \"phi-3-trace\"\n",
    "mlflow.set_experiment(experiment_name)\n",
    "\n",
    "generator = pipeline(task = \"text-generation\", model = model, tokenizer = tokenizer)\n",
    "\n",
    "# Mark any function with the trace decorator to automatically capture input(s) and output(s)\n",
    "@mlflow.trace\n",
    "def generate(prompt: str) -> str:\n",
    "    response = generator(prompt)\n",
    "    return response\n",
    "\n",
    "\n",
    "# Invoking the function will generate a trace that is logged to the active experiment\n",
    "generate(\"What's ML?\")\n"
   ]
  },
  {
   "cell_type": "code",
   "execution_count": null,
   "metadata": {},
   "outputs": [],
   "source": []
  }
 ],
 "metadata": {
  "kernelspec": {
   "display_name": ".venv",
   "language": "python",
   "name": "python3"
  },
  "language_info": {
   "codemirror_mode": {
    "name": "ipython",
    "version": 3
   },
   "file_extension": ".py",
   "mimetype": "text/x-python",
   "name": "python",
   "nbconvert_exporter": "python",
   "pygments_lexer": "ipython3",
   "version": "3.11.6"
  }
 },
 "nbformat": 4,
 "nbformat_minor": 2
}
